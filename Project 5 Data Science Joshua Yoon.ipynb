"""
# **Introduction**

*Joshua Yoon*

This notebook performs a simple analysis of some data about **earthquakes**.This earthquake data originally comes from the United States Geological Survey.The data was downloaded from CORGIS project,a collection of datasets. More information about the dataset can be found on the [CORGIS site](https://thecorgisite.com/)
"""

"""
This notebook performs a very simple analysis of some data about earthquakes. This earthquake data originally comes from the United States Geological Survey. The data was downloaded from the CORGIS project, a collection of datasets. More information about the dataset can be found on the CORGIS site.

For this analysis, I will explore the following research question: *"What is the distribution of earthquake magnitudes?"* I will answer this question by doing the following:
1. Downloading a JSON file of earthquake data.

2. Printing the first element of dataset, to learn it's structure.

3. Extracting out the magnitude information from all the earthquakes.

4. Plotting the distribution of magnitudes.

5. Discussing the plot and it's implications on society.

# **Downloading Data**
"""

import requests

url = "https://think.cs.vt.edu/corgis/datasets/json/earthquakes/earthquakes.json"
data = requests.get(url).json()

"""# **Previewing the Structure**"""

from pprint import pprint
# The pretty print (pprint) is great module for
# quickly visualizing structured data!
pprint(data[0])

"""#  **Extract Magnitudes**"""

magnitudes=[earthquake['impact']['magnitude'] 
            for earthquake in data]

"""# **Plotting Magnitudes**"""

import matplotlib.pyplot as plt
plt.hist(magnitudes)
plt.title("Distribution of Earthquake Magnitudes")
plt.xlabel("Magnitude")
plt.ylabel("Numer of Earthquakes")
plt.show()

"""# **Discussion**

The histogram above shows that most earthquakes are not very big, with a magnitude of less than 2. However, some earthquakes are very severe, reaching up to a 7 or 8 for their magnitudes. The dataset collects data from all over the world for about a month, so in general, there are quite a few earthquakes that occur.

A number of stakeholders could be interested in these results:

* People building houses would want to know whether they need to regularly plan for very strong earthquakes.

* Emergency relief effort planners would want to know how often they need to plan for earthquakes in general.

* Scientists studying tectonic plate activity could use this to determine if a particular earthquake was unusual.

A potential conflict between these stakeholders could be between emergency relief planners and builders; builders might want to conserve stronger materials since strong earthquakes are relatively rare, while relief planners would rather they always use strong materials since earthquakes are so frequent. According to the ethical theory of [Least Harm](http://www.dsef.org/wp-content/uploads/2012/07/EthicalTheories.pdf), which states that decision makers should always attempt to harm the fewest people possible, the builders should just use the stronger materials to minimize the threat to the populace.

*I have neither given nor received unauthorized assistance on this assignment.*

"""